{
 "cells": [
  {
   "cell_type": "markdown",
   "metadata": {
    "deletable": false,
    "editable": false,
    "run_control": {
     "frozen": true
    }
   },
   "source": [
    "***\n",
    "<br><br><br><br><br>\n",
    "<h1>Anomaly Detection and Treatment: Outliers</h1>\n",
    "<em>DAT-5301 In-Class Script</em><br><br>\n",
    "\n",
    "Written by Chase Kusterer - Faculty of Analytics <br>\n",
    "Hult International Business School <br>\n",
    "<a href=\"https://github.com/chase-kusterer\">https://github.com/chase-kusterer</a> <br><br><br><br><br>\n",
    "***\n",
    "***\n",
    "***\n",
    "\n",
    "## Introduction: Outliers and Analytical Philosophy"
   ]
  },
  {
   "cell_type": "markdown",
   "metadata": {
    "deletable": false,
    "editable": false,
    "run_control": {
     "frozen": true
    }
   },
   "source": [
    "<a href=\"https://www.merriam-webster.com/dictionary/outlier\">Merriam Webster</a> defines an <a href=\"https://www.merriam-webster.com/dictionary/outlier\">outlier</a> as <em>\"a statistical observation that is markedly different in value from the others of the sample.\"</em> A common statistical heuristic is to define <em>\"markedly different\"</em> as more than the result of:\n",
    "<br><br>\n",
    "\n",
    "~~~\n",
    "1.5 x INTERQUARTILE RANGE\n",
    "~~~\n",
    "\n",
    "<br>\n",
    "Throughout every analysis in my time as a member of the data science community, I have questioned the computation and value of outliers, as well as whether or not I would ever encounter a situation were it would be beneficial to quickly apply the aforementioned rule of thumb and move on to other aspects of an analysis. At the same time, I have seen and worked alongside data science professionals that commonly apply this heuristic, even going as far as to hastily delete or impute outliers without taking a moment to understand them. When I see this, I can't help but think that at some point <strong>these analysts started taking the math too literally and forgot the business problem they were trying to solve.</strong> In business analytics, actionable insights are king, and in nearly every analysis I have taken part in, outliers have generated value in areas such as domain knowledge (understanding what is feasible), insights generation (information-driven findings), and prediction (yes, I said prediction). This notebook not only focuses on techniques for outliers, but also serves as an introduction to approaching an analysis as more of an art than a science. This is a critical skill that every business analyst <strong>must</strong> develop. \n",
    "<br><br>\n",
    "<strong>Note:</strong> As you move through this code, try to notice how much has been recycled from the missing value imputation notebook. This is one of the many benefits of taking a programmatic approach to data science.\n",
    "<br><br>\n",
    "\n",
    "## Part 1: Quantitative Outlier Detection\n",
    "\n",
    "#### S14.1.1) Import <em>pandas</em> as <em>pd</em>, <em>matplotlib.pyplot</em> as <em>plt</em>, and <em>seaborn</em> as <em>sns</em>. Then, read in the file <em>diamonds_imputed.xlsx</em> as <em>diamonds</em>."
   ]
  },
  {
   "cell_type": "code",
   "execution_count": 4,
   "metadata": {},
   "outputs": [
    {
     "name": "stdout",
     "output_type": "stream",
     "text": [
      "<class 'pandas.core.frame.DataFrame'>\n",
      "RangeIndex: 409 entries, 0 to 408\n",
      "Data columns (total 13 columns):\n",
      "Unnamed: 0    409 non-null int64\n",
      "Obs           409 non-null object\n",
      "carat         409 non-null float64\n",
      "color         409 non-null int32\n",
      "clarity       409 non-null int32\n",
      "cut           409 non-null int32\n",
      "channel       409 non-null category\n",
      "store         409 non-null category\n",
      "price         409 non-null int32\n",
      "m_carat       409 non-null int32\n",
      "m_color       409 non-null int32\n",
      "m_clarity     409 non-null int32\n",
      "m_cut         409 non-null int32\n",
      "dtypes: category(2), float64(1), int32(8), int64(1), object(1)\n",
      "memory usage: 23.8+ KB\n"
     ]
    }
   ],
   "source": [
    "## Session 14.1.1 ##\n",
    "\n",
    "# importing packages\n",
    "import matplotlib.pyplot as plt\n",
    "import pandas as pd\n",
    "import seaborn as sns\n",
    "\n",
    "\n",
    "## New! ##\n",
    "# dictionary for data types\n",
    "types = {'Obs'       : str,\n",
    "         'carat'     : float,\n",
    "         'color'     : int,\n",
    "         'clarity'   : int,\n",
    "         'cut'       : int,\n",
    "         'channel'   : 'category',\n",
    "         'store'     : 'category',\n",
    "         'price'     : int,\n",
    "         'm_carat'   : int,\n",
    "         'm_color'   : int,\n",
    "         'm_clarity' : int,\n",
    "         'm_cut'     : int}\n",
    "\n",
    "## Data Clean up\n",
    "# adjusting clarity to fit the rest of the data (was 2-10, now 1-9)\n",
    "diamonds['new_clarity'] = diamonds['clarity'] - 1 (Dont run more than once.)\n",
    "\n",
    "# reading in dataset\n",
    "file     = 'diamonds_imputed.xlsx'\n",
    "diamonds = pd.read_excel(file, dtype = types)\n",
    "\n",
    "\n",
    "# checking data types\n",
    "diamonds.info(verbose = True)\n"
   ]
  },
  {
   "cell_type": "markdown",
   "metadata": {
    "deletable": false,
    "editable": false,
    "run_control": {
     "frozen": true
    }
   },
   "source": [
    "***\n",
    "\n",
    "<br>\n",
    "\n",
    "This section shall cover two useful <em>pandas DataFrame</em> methods for outlier detection: <em>describe( )</em> and <em>quantile( )</em>.\n",
    "<br>\n",
    "#### S14.1.2) Call <em>describe</em> on the <em>diamonds</em> dataset, rounding results to two decimal places."
   ]
  },
  {
   "cell_type": "code",
   "execution_count": 7,
   "metadata": {},
   "outputs": [
    {
     "data": {
      "text/html": [
       "<div>\n",
       "<style scoped>\n",
       "    .dataframe tbody tr th:only-of-type {\n",
       "        vertical-align: middle;\n",
       "    }\n",
       "\n",
       "    .dataframe tbody tr th {\n",
       "        vertical-align: top;\n",
       "    }\n",
       "\n",
       "    .dataframe thead th {\n",
       "        text-align: right;\n",
       "    }\n",
       "</style>\n",
       "<table border=\"1\" class=\"dataframe\">\n",
       "  <thead>\n",
       "    <tr style=\"text-align: right;\">\n",
       "      <th></th>\n",
       "      <th>Unnamed: 0</th>\n",
       "      <th>carat</th>\n",
       "      <th>color</th>\n",
       "      <th>clarity</th>\n",
       "      <th>cut</th>\n",
       "      <th>price</th>\n",
       "      <th>m_carat</th>\n",
       "      <th>m_color</th>\n",
       "      <th>m_clarity</th>\n",
       "      <th>m_cut</th>\n",
       "      <th>new_clarity</th>\n",
       "    </tr>\n",
       "  </thead>\n",
       "  <tbody>\n",
       "    <tr>\n",
       "      <td>count</td>\n",
       "      <td>409.00</td>\n",
       "      <td>409.00</td>\n",
       "      <td>409.00</td>\n",
       "      <td>409.00</td>\n",
       "      <td>409.00</td>\n",
       "      <td>409.00</td>\n",
       "      <td>409.00</td>\n",
       "      <td>409.00</td>\n",
       "      <td>409.00</td>\n",
       "      <td>409.00</td>\n",
       "      <td>409.00</td>\n",
       "    </tr>\n",
       "    <tr>\n",
       "      <td>mean</td>\n",
       "      <td>204.00</td>\n",
       "      <td>1.05</td>\n",
       "      <td>4.23</td>\n",
       "      <td>6.06</td>\n",
       "      <td>0.37</td>\n",
       "      <td>6488.23</td>\n",
       "      <td>0.02</td>\n",
       "      <td>0.03</td>\n",
       "      <td>0.02</td>\n",
       "      <td>0.02</td>\n",
       "      <td>5.06</td>\n",
       "    </tr>\n",
       "    <tr>\n",
       "      <td>std</td>\n",
       "      <td>118.21</td>\n",
       "      <td>0.42</td>\n",
       "      <td>1.79</td>\n",
       "      <td>1.56</td>\n",
       "      <td>0.48</td>\n",
       "      <td>4414.43</td>\n",
       "      <td>0.15</td>\n",
       "      <td>0.18</td>\n",
       "      <td>0.13</td>\n",
       "      <td>0.15</td>\n",
       "      <td>1.56</td>\n",
       "    </tr>\n",
       "    <tr>\n",
       "      <td>min</td>\n",
       "      <td>0.00</td>\n",
       "      <td>0.32</td>\n",
       "      <td>1.00</td>\n",
       "      <td>2.00</td>\n",
       "      <td>0.00</td>\n",
       "      <td>878.00</td>\n",
       "      <td>0.00</td>\n",
       "      <td>0.00</td>\n",
       "      <td>0.00</td>\n",
       "      <td>0.00</td>\n",
       "      <td>1.00</td>\n",
       "    </tr>\n",
       "    <tr>\n",
       "      <td>25%</td>\n",
       "      <td>102.00</td>\n",
       "      <td>0.72</td>\n",
       "      <td>3.00</td>\n",
       "      <td>5.00</td>\n",
       "      <td>0.00</td>\n",
       "      <td>3490.00</td>\n",
       "      <td>0.00</td>\n",
       "      <td>0.00</td>\n",
       "      <td>0.00</td>\n",
       "      <td>0.00</td>\n",
       "      <td>4.00</td>\n",
       "    </tr>\n",
       "    <tr>\n",
       "      <td>50%</td>\n",
       "      <td>204.00</td>\n",
       "      <td>1.02</td>\n",
       "      <td>4.00</td>\n",
       "      <td>6.00</td>\n",
       "      <td>0.00</td>\n",
       "      <td>5550.00</td>\n",
       "      <td>0.00</td>\n",
       "      <td>0.00</td>\n",
       "      <td>0.00</td>\n",
       "      <td>0.00</td>\n",
       "      <td>5.00</td>\n",
       "    </tr>\n",
       "    <tr>\n",
       "      <td>75%</td>\n",
       "      <td>306.00</td>\n",
       "      <td>1.21</td>\n",
       "      <td>6.00</td>\n",
       "      <td>7.00</td>\n",
       "      <td>1.00</td>\n",
       "      <td>8089.00</td>\n",
       "      <td>0.00</td>\n",
       "      <td>0.00</td>\n",
       "      <td>0.00</td>\n",
       "      <td>0.00</td>\n",
       "      <td>6.00</td>\n",
       "    </tr>\n",
       "    <tr>\n",
       "      <td>max</td>\n",
       "      <td>408.00</td>\n",
       "      <td>2.48</td>\n",
       "      <td>9.00</td>\n",
       "      <td>10.00</td>\n",
       "      <td>1.00</td>\n",
       "      <td>27575.00</td>\n",
       "      <td>1.00</td>\n",
       "      <td>1.00</td>\n",
       "      <td>1.00</td>\n",
       "      <td>1.00</td>\n",
       "      <td>9.00</td>\n",
       "    </tr>\n",
       "  </tbody>\n",
       "</table>\n",
       "</div>"
      ],
      "text/plain": [
       "       Unnamed: 0   carat   color  clarity     cut     price  m_carat  \\\n",
       "count      409.00  409.00  409.00   409.00  409.00    409.00   409.00   \n",
       "mean       204.00    1.05    4.23     6.06    0.37   6488.23     0.02   \n",
       "std        118.21    0.42    1.79     1.56    0.48   4414.43     0.15   \n",
       "min          0.00    0.32    1.00     2.00    0.00    878.00     0.00   \n",
       "25%        102.00    0.72    3.00     5.00    0.00   3490.00     0.00   \n",
       "50%        204.00    1.02    4.00     6.00    0.00   5550.00     0.00   \n",
       "75%        306.00    1.21    6.00     7.00    1.00   8089.00     0.00   \n",
       "max        408.00    2.48    9.00    10.00    1.00  27575.00     1.00   \n",
       "\n",
       "       m_color  m_clarity   m_cut  new_clarity  \n",
       "count   409.00     409.00  409.00       409.00  \n",
       "mean      0.03       0.02    0.02         5.06  \n",
       "std       0.18       0.13    0.15         1.56  \n",
       "min       0.00       0.00    0.00         1.00  \n",
       "25%       0.00       0.00    0.00         4.00  \n",
       "50%       0.00       0.00    0.00         5.00  \n",
       "75%       0.00       0.00    0.00         6.00  \n",
       "max       1.00       1.00    1.00         9.00  "
      ]
     },
     "execution_count": 7,
     "metadata": {},
     "output_type": "execute_result"
    }
   ],
   "source": [
    "## Session 14.1.2 ##\n",
    "\n",
    "\n",
    "# calling describe() to analyze distributions \n",
    "diamonds.describe().round(2)\n",
    "\n"
   ]
  },
  {
   "cell_type": "markdown",
   "metadata": {},
   "source": [
    "***\n",
    "\n",
    "<br>\n",
    "\n",
    "#### S14.1.3) Apply <em>quantile( )</em> on <em>carat</em>, <em>color</em>, <em>clarity</em>, <em>cut</em>, and <em>price</em>."
   ]
  },
  {
   "cell_type": "code",
   "execution_count": 8,
   "metadata": {},
   "outputs": [
    {
     "data": {
      "text/html": [
       "<div>\n",
       "<style scoped>\n",
       "    .dataframe tbody tr th:only-of-type {\n",
       "        vertical-align: middle;\n",
       "    }\n",
       "\n",
       "    .dataframe tbody tr th {\n",
       "        vertical-align: top;\n",
       "    }\n",
       "\n",
       "    .dataframe thead th {\n",
       "        text-align: right;\n",
       "    }\n",
       "</style>\n",
       "<table border=\"1\" class=\"dataframe\">\n",
       "  <thead>\n",
       "    <tr style=\"text-align: right;\">\n",
       "      <th></th>\n",
       "      <th>carat</th>\n",
       "      <th>color</th>\n",
       "      <th>clarity</th>\n",
       "      <th>cut</th>\n",
       "      <th>price</th>\n",
       "    </tr>\n",
       "  </thead>\n",
       "  <tbody>\n",
       "    <tr>\n",
       "      <td>0.2</td>\n",
       "      <td>0.700</td>\n",
       "      <td>2.0</td>\n",
       "      <td>5.0</td>\n",
       "      <td>0.0</td>\n",
       "      <td>3178.8</td>\n",
       "    </tr>\n",
       "    <tr>\n",
       "      <td>0.4</td>\n",
       "      <td>1.010</td>\n",
       "      <td>4.0</td>\n",
       "      <td>6.0</td>\n",
       "      <td>0.0</td>\n",
       "      <td>4852.0</td>\n",
       "    </tr>\n",
       "    <tr>\n",
       "      <td>0.6</td>\n",
       "      <td>1.050</td>\n",
       "      <td>5.0</td>\n",
       "      <td>6.0</td>\n",
       "      <td>0.0</td>\n",
       "      <td>6200.8</td>\n",
       "    </tr>\n",
       "    <tr>\n",
       "      <td>0.8</td>\n",
       "      <td>1.314</td>\n",
       "      <td>6.0</td>\n",
       "      <td>7.0</td>\n",
       "      <td>1.0</td>\n",
       "      <td>8732.0</td>\n",
       "    </tr>\n",
       "    <tr>\n",
       "      <td>1.0</td>\n",
       "      <td>2.480</td>\n",
       "      <td>9.0</td>\n",
       "      <td>10.0</td>\n",
       "      <td>1.0</td>\n",
       "      <td>27575.0</td>\n",
       "    </tr>\n",
       "  </tbody>\n",
       "</table>\n",
       "</div>"
      ],
      "text/plain": [
       "     carat  color  clarity  cut    price\n",
       "0.2  0.700    2.0      5.0  0.0   3178.8\n",
       "0.4  1.010    4.0      6.0  0.0   4852.0\n",
       "0.6  1.050    5.0      6.0  0.0   6200.8\n",
       "0.8  1.314    6.0      7.0  1.0   8732.0\n",
       "1.0  2.480    9.0     10.0  1.0  27575.0"
      ]
     },
     "execution_count": 8,
     "metadata": {},
     "output_type": "execute_result"
    }
   ],
   "source": [
    "## Session 14.1.3 ##\n",
    "\n",
    "# applying quantile on features of interest\n",
    "diamonds[['carat',\n",
    "          'color',\n",
    "          'clarity',\n",
    "          'cut',\n",
    "          'price']].quantile([0.20,\n",
    "                              0.40,\n",
    "                              0.60,\n",
    "                              0.80,\n",
    "                              1.00])\n",
    "\n",
    "# see Footnote 1 for an explanation of the code above"
   ]
  },
  {
   "cell_type": "markdown",
   "metadata": {},
   "source": [
    "<strong> Notes: </strong>\n",
    "    * Top 2 % of diamonds are really big (not aligned with trend)\n",
    "    * Top 2 % of diamonds are really expensive (not aligned with trend)"
   ]
  },
  {
   "cell_type": "markdown",
   "metadata": {
    "deletable": false,
    "editable": false,
    "run_control": {
     "frozen": true
    }
   },
   "source": [
    "***\n",
    "\n",
    "<br>\n",
    "\n",
    "## Part 2: Visual Outlier Detection\n",
    "The boxplot is one of the most useful visual tools for detecting outliers. We can call <em>help( )</em> on <em>pd.DataFrame.boxplot</em> to learn more.\n",
    "<br><br>\n",
    "#### S14.2.1) Develop a boxplot for <em>carat</em>."
   ]
  },
  {
   "cell_type": "code",
   "execution_count": 9,
   "metadata": {},
   "outputs": [
    {
     "data": {
      "image/png": "[encoded data removed]",
      "text/plain": [
       "<Figure size 432x288 with 1 Axes>"
      ]
     },
     "metadata": {
      "needs_background": "light"
     },
     "output_type": "display_data"
    }
   ],
   "source": [
    "## Session 14.2.1 ##\n",
    "\n",
    "# a basic boxplot\n",
    "diamonds.boxplot(column = 'carat')\n",
    "\n",
    "# displaying the plot\n",
    "plt.show()\n"
   ]
  },
  {
   "cell_type": "markdown",
   "metadata": {
    "deletable": false,
    "editable": false,
    "run_control": {
     "frozen": true
    }
   },
   "source": [
    "***\n",
    "\n",
    "<br>\n",
    "\n",
    "#### S14.2.2) Segment the <em>carat</em> boxplot by <em>channel</em>."
   ]
  },
  {
   "cell_type": "code",
   "execution_count": 11,
   "metadata": {},
   "outputs": [
    {
     "data": {
      "image/png": "[encoded data removed]",
      "text/plain": [
       "<Figure size 432x288 with 1 Axes>"
      ]
     },
     "metadata": {
      "needs_background": "light"
     },
     "output_type": "display_data"
    }
   ],
   "source": [
    "## Session 14.2.2 ##\n",
    "\n",
    "# a boxplot that's segmented\n",
    "diamonds.boxplot(column = ['carat'],\n",
    "                 by     = 'channel')\n",
    "\n",
    "\n",
    "# displaying the plot\n",
    "plt.show()\n"
   ]
  },
  {
   "cell_type": "markdown",
   "metadata": {},
   "source": [
    "***\n",
    "\n",
    "<br><br>\n",
    "Applying more optional arguments."
   ]
  },
  {
   "cell_type": "code",
   "execution_count": 12,
   "metadata": {
    "deletable": false,
    "editable": false
   },
   "outputs": [
    {
     "name": "stderr",
     "output_type": "stream",
     "text": [
      "C:\\Users\\William W. Johnsen\\Anaconda3\\lib\\site-packages\\pandas\\plotting\\_matplotlib\\boxplot.py:264: MatplotlibDeprecationWarning: The 'manage_xticks' parameter of boxplot() has been renamed 'manage_ticks' since Matplotlib 3.1; support for the old name will be dropped in 3.3.\n",
      "  bp = ax.boxplot(values, **kwds)\n"
     ]
    },
    {
     "data": {
      "image/png": "[encoded data removed]",
      "text/plain": [
       "<Figure size 432x288 with 1 Axes>"
      ]
     },
     "metadata": {
      "needs_background": "light"
     },
     "output_type": "display_data"
    }
   ],
   "source": [
    "## Session 14.2.3 ##\n",
    "\n",
    "# a more detailed boxplot that's segmented\n",
    "diamonds.boxplot(column        = ['carat'],\n",
    "                 by            = 'channel',\n",
    "                 vert          = False,\n",
    "                 manage_xticks = True, # deprecated!\n",
    "                 patch_artist  = False,\n",
    "                 meanline      = True,\n",
    "                 showmeans     = True)\n",
    "\n",
    "\n",
    "# adding some stuff\n",
    "plt.title(\"Carat by Channel\")\n",
    "plt.suptitle(\"\")\n",
    "\n",
    "# displaying the plot\n",
    "plt.show()\n",
    "\n",
    "# see Footnote 2 for an explanation of the code above\n"
   ]
  },
  {
   "cell_type": "markdown",
   "metadata": {
    "deletable": false,
    "editable": false,
    "run_control": {
     "frozen": true
    }
   },
   "source": [
    " "
   ]
  },
  {
   "cell_type": "code",
   "execution_count": 13,
   "metadata": {
    "deletable": false,
    "editable": false
   },
   "outputs": [
    {
     "data": {
      "image/png": "[encoded data removed]",
      "text/plain": [
       "<Figure size 432x288 with 1 Axes>"
      ]
     },
     "metadata": {
      "needs_background": "light"
     },
     "output_type": "display_data"
    },
    {
     "data": {
      "image/png": "[encoded data removed]",
      "text/plain": [
       "<Figure size 432x288 with 1 Axes>"
      ]
     },
     "metadata": {
      "needs_background": "light"
     },
     "output_type": "display_data"
    },
    {
     "data": {
      "image/png": "[encoded data removed]",
      "text/plain": [
       "<Figure size 432x288 with 1 Axes>"
      ]
     },
     "metadata": {
      "needs_background": "light"
     },
     "output_type": "display_data"
    },
    {
     "data": {
      "image/png": "[encoded data removed]",
      "text/plain": [
       "<Figure size 432x288 with 1 Axes>"
      ]
     },
     "metadata": {
      "needs_background": "light"
     },
     "output_type": "display_data"
    }
   ],
   "source": [
    "## Session 14.2.4 ##\n",
    "\n",
    "# ...and a more advanced set of boxplots\n",
    "\n",
    "# carat\n",
    "diamonds.boxplot(column = ['carat'],\n",
    "                 by = 'channel',\n",
    "                 vert = False,\n",
    "                 patch_artist = True,\n",
    "                 meanline = True,\n",
    "                 showmeans = True)\n",
    "\n",
    "\n",
    "\n",
    "plt.suptitle('')\n",
    "plt.tight_layout()\n",
    "plt.show()\n",
    "\n",
    "\n",
    "# color\n",
    "diamonds.boxplot(column = ['color'],\n",
    "                 by = 'channel',\n",
    "                 vert = False,\n",
    "                 patch_artist = True,\n",
    "                 meanline = True,\n",
    "                 showmeans = True)\n",
    "\n",
    "\n",
    "plt.suptitle('')\n",
    "plt.tight_layout()\n",
    "plt.show()\n",
    "\n",
    "\n",
    "\n",
    "# clarity\n",
    "diamonds.boxplot(column = ['clarity'],\n",
    "                 by = 'channel',\n",
    "                 vert = False,\n",
    "                 patch_artist = True,\n",
    "                 meanline = True,\n",
    "                 showmeans = True)\n",
    "\n",
    "plt.suptitle('')\n",
    "plt.tight_layout()\n",
    "plt.show()\n",
    "\n",
    "\n",
    "\n",
    "# cut\n",
    "diamonds.boxplot(column = ['cut'],\n",
    "                 by = 'channel',\n",
    "                 vert = False,\n",
    "                 patch_artist = True,\n",
    "                 meanline = True,\n",
    "                 showmeans = True)\n",
    "\n",
    "plt.suptitle('')\n",
    "plt.tight_layout()\n",
    "plt.show()\n"
   ]
  },
  {
   "cell_type": "markdown",
   "metadata": {
    "deletable": false,
    "editable": false,
    "run_control": {
     "frozen": true
    }
   },
   "source": [
    "***\n",
    "\n",
    "<br><br>\n",
    "The boxplots for <em>carat</em>, <em>color</em>, <em>clarity</em>, and <em>cut</em> can be combined into one visual. However, this may make it more challenging to determine outlier thresholds for each feature.\n",
    "<br><br>\n",
    "\n",
    "#### S14.2.5) Develop one visual that contains boxplots for <em>carat</em>, <em>color</em>, <em>clarity</em> and <em>cut</em>."
   ]
  },
  {
   "cell_type": "code",
   "execution_count": null,
   "metadata": {},
   "outputs": [],
   "source": [
    "## Session 14.2.5 ##\n",
    "\n",
    "# carat, color, clarity, and cut\n",
    "diamonds.boxplot(column = ____,\n",
    "                 vert = False,\n",
    "                 ____ = True, # replacing manage_xticks\n",
    "                 patch_artist = False,\n",
    "                 meanline = True,\n",
    "                 showmeans = True, # notice the comma!\n",
    "                 )\n",
    "\n",
    "\n",
    "# adding a title\n",
    "plt.____(\"Boxplots for Carat, Color, Clarity, and Cut\")\n",
    "\n",
    "# displaying the plot\n",
    "____\n"
   ]
  },
  {
   "cell_type": "markdown",
   "metadata": {
    "deletable": false,
    "editable": false,
    "run_control": {
     "frozen": true
    }
   },
   "source": [
    "***\n",
    "\n",
    "<br>\n",
    "\n",
    "#### S14.2.6) Develop a boxplot for <em>price</em> where a line representing the arithmetic mean displayed is and the plot is oriented horizontally."
   ]
  },
  {
   "cell_type": "code",
   "execution_count": null,
   "metadata": {},
   "outputs": [],
   "source": [
    "## Session 14.2.6 ##\n",
    "\n",
    "# price\n",
    "plt.boxplot(x            = ____,\n",
    "            data         = ____,\n",
    "            vert         = ____,\n",
    "            patch_artist = ____,\n",
    "            meanline     = ____,\n",
    "            showmeans    = ____)\n",
    "\n",
    "\n",
    "# labeling the axis\n",
    "plt.xlabel(____)\n",
    "\n",
    "# displaying the plot\n",
    "____\n"
   ]
  },
  {
   "cell_type": "markdown",
   "metadata": {
    "deletable": false,
    "editable": false,
    "run_control": {
     "frozen": true
    }
   },
   "source": [
    "***\n",
    "\n",
    "<br>\n",
    "\n",
    "## Part 3: Enhancing Visualizations\n",
    "To appreciate how data visualization in Python has evolved over time, let's take a look at histograms coming from <em>pandas</em>, <em>matplotlib.pyplot</em>, and <em>seaborn</em>."
   ]
  },
  {
   "cell_type": "code",
   "execution_count": null,
   "metadata": {
    "deletable": false,
    "editable": false
   },
   "outputs": [],
   "source": [
    "## Session 14.3.1 ##\n",
    "\n",
    "# histogram in pandas\n",
    "diamonds['price'].hist()\n",
    "\n",
    "# labels and display\n",
    "plt.title(\"pandas\")\n",
    "plt.xlabel(\"Price\")\n",
    "plt.show()\n",
    "\n",
    "\n",
    "########################################\n",
    "\n",
    "\n",
    "# histogram in matplotlib.pyplot\n",
    "plt.hist(x = 'price',\n",
    "         data = diamonds)\n",
    "\n",
    "# labels and display\n",
    "plt.title(\"matplotlib.pyplot\")\n",
    "plt.xlabel(\"Price\")\n",
    "plt.show()\n",
    "\n",
    "\n",
    "########################################\n",
    "\n",
    "\n",
    "# histogram (distplot) in seaborn\n",
    "sns.distplot(diamonds['price'])\n",
    "\n",
    "# labels and display\n",
    "plt.title(\"seaborn\")\n",
    "plt.xlabel(\"Price\")\n",
    "plt.show()\n"
   ]
  },
  {
   "cell_type": "markdown",
   "metadata": {
    "deletable": false,
    "editable": false,
    "run_control": {
     "frozen": true
    }
   },
   "source": [
    "***\n",
    "\n",
    "<br>\n",
    "\n",
    "Now let's apply the enhanced graphical capabilities of <em>seaborn</em> to features in the <em>diamonds</em> dataset."
   ]
  },
  {
   "cell_type": "code",
   "execution_count": null,
   "metadata": {
    "deletable": false,
    "editable": false
   },
   "outputs": [],
   "source": [
    "## Session 14.3.2 ##\n",
    "\n",
    "# Customizing with sns.distplot\n",
    "plt.subplot(2, 2, 1)\n",
    "sns.distplot(diamonds['price'],\n",
    "             bins = 'fd',\n",
    "             color = 'g')\n",
    "\n",
    "\n",
    "# labeling axis\n",
    "plt.xlabel('Price')\n",
    "\n",
    "\n",
    "########################################\n",
    "\n",
    "\n",
    "plt.subplot(2, 2, 2)\n",
    "sns.distplot(diamonds['carat'],\n",
    "             bins = 'fd',\n",
    "             color = 'y')\n",
    "\n",
    "\n",
    "# labeling axis\n",
    "plt.xlabel('Carat')\n",
    "\n",
    "\n",
    "########################################\n",
    "\n",
    "\n",
    "plt.subplot(2, 2, 3)\n",
    "sns.distplot(diamonds['color'],\n",
    "             bins = 17,\n",
    "             kde = False,\n",
    "             rug = True,\n",
    "             color = 'orange')\n",
    "\n",
    "\n",
    "# labeling axis\n",
    "plt.xlabel('Color')\n",
    "\n",
    "\n",
    "########################################\n",
    "\n",
    "\n",
    "plt.subplot(2, 2, 4)\n",
    "\n",
    "sns.distplot(diamonds['clarity'],\n",
    "             bins = 17,\n",
    "             kde = False,\n",
    "             rug = True,\n",
    "             color = 'r')\n",
    "\n",
    "\n",
    "# labeling axis\n",
    "plt.xlabel('Clarity')\n",
    "\n",
    "\n",
    "# formatting and display\n",
    "plt.tight_layout()\n",
    "plt.savefig('Diamond Data Histograms 2 of 3.png')\n",
    "plt.show()\n",
    "\n",
    "\n",
    "########################################\n",
    "\n",
    "\n",
    "plt.subplot(2, 2, 1)\n",
    "sns.distplot(diamonds['cut'],\n",
    "             kde = False,\n",
    "             rug = True,\n",
    "             color = 'navy')\n",
    "\n",
    "\n",
    "# labeling axis\n",
    "plt.xlabel('Cut')\n",
    "\n",
    "\n",
    "########################################\n",
    "\n",
    "\n",
    "plt.subplot(2, 2, 2)\n",
    "sns.distplot(diamonds['store'],\n",
    "             bins = 25,\n",
    "             kde = False,\n",
    "             color = 'maroon')\n",
    "\n",
    "\n",
    "# labeling axis\n",
    "plt.xlabel('Store')\n",
    "\n",
    "\n",
    "########################################\n",
    "\n",
    "\n",
    "plt.subplot(2, 2, 3)\n",
    "sns.distplot(diamonds['channel'],\n",
    "             bins = 8,\n",
    "             kde = False,\n",
    "             color = 'gold')\n",
    "\n",
    "\n",
    "# labeling axis\n",
    "plt.xlabel('Channel')\n",
    "\n",
    "\n",
    "# formatting and display\n",
    "plt.tight_layout()\n",
    "plt.savefig('Diamond Data Histograms 2 of 3.png')\n",
    "plt.show()\n"
   ]
  },
  {
   "cell_type": "markdown",
   "metadata": {
    "deletable": false,
    "editable": false,
    "run_control": {
     "frozen": true
    }
   },
   "source": [
    "***\n",
    "\n",
    "<br>\n",
    "\n",
    "Finally, let's develop outlier thresholds within each plot with soft coding. This will help make the code easier to maintain, allowing us to quickly adjust thresholds if needed.\n",
    "<br><br>\n",
    "\n",
    "#### S14.3.3) Based on the visuals generated thus far, develop outlier thresholds for each feature."
   ]
  },
  {
   "cell_type": "code",
   "execution_count": null,
   "metadata": {},
   "outputs": [],
   "source": [
    "## Session 14.3.3 ##\n",
    "\n",
    "# creating outlier thresholds\n",
    "____\n"
   ]
  },
  {
   "cell_type": "markdown",
   "metadata": {
    "deletable": false,
    "editable": false,
    "run_control": {
     "frozen": true
    }
   },
   "source": [
    "***\n",
    "\n",
    "<br><br>\n",
    "\n",
    "#### S14.3.4) Add the outlier threshold for <em>price</em> to its histogram using <em>plt.axvline</em>."
   ]
  },
  {
   "cell_type": "code",
   "execution_count": null,
   "metadata": {},
   "outputs": [],
   "source": [
    "## Session 14.3.4 ##\n",
    "\n",
    "# sns.distplot\n",
    "plt.subplot(2, 2, 1)\n",
    "sns.distplot(diamonds['price'],\n",
    "             bins = 35,\n",
    "             color = 'g')\n",
    "\n",
    "\n",
    "# labeling axis\n",
    "plt.xlabel('Price')\n",
    "\n",
    "\n",
    "# outlier thresholds\n",
    "____\n",
    "\n",
    "\n",
    "# see Footnote 4 for an explanation of the code above\n"
   ]
  },
  {
   "cell_type": "markdown",
   "metadata": {
    "deletable": false,
    "editable": false,
    "run_control": {
     "frozen": true
    }
   },
   "source": [
    "***\n",
    "\n",
    "<br><br>\n",
    "\n",
    "#### S14.3.5) Add the outlier thresholds to the histograms of each feature."
   ]
  },
  {
   "cell_type": "code",
   "execution_count": null,
   "metadata": {},
   "outputs": [],
   "source": [
    "## Session 14.3.5 ##\n",
    "\n",
    "# sns.distplot\n",
    "plt.subplot(2, 2, 1)\n",
    "sns.distplot(diamonds['price'],\n",
    "             bins = 35,\n",
    "             color = 'g')\n",
    "\n",
    "\n",
    "# labeling axis\n",
    "plt.xlabel('Price')\n",
    "\n",
    "\n",
    "# outlier thresholds\n",
    "plt.axvline(x = price_limit_hi,\n",
    "            label = 'Outlier Thresholds',\n",
    "            linestyle = '--')\n",
    "\n",
    "\n",
    "# see Footnote 4 for an explanation of the code above\n",
    "\n",
    "\n",
    "########################################\n",
    "\n",
    "# carat\n",
    "plt.subplot(2, 2, 2)\n",
    "____\n",
    "\n",
    "\n",
    "########################################\n",
    "\n",
    "# color\n",
    "plt.subplot(2, 2, 3)\n",
    "____\n",
    "\n",
    "\n",
    "########################################\n",
    "\n",
    "# clarity\n",
    "plt.subplot(2, 2, 4)\n",
    "____\n",
    "\n",
    "\n",
    "\n",
    "# formatting, saving, and display\n",
    "plt.tight_layout()\n",
    "plt.savefig('Diamond Data Histograms 3 of 3.png')\n",
    "plt.show()\n"
   ]
  },
  {
   "cell_type": "markdown",
   "metadata": {},
   "source": [
    "***\n",
    "\n",
    "<br>\n",
    "\n",
    "## Part 4: Developing Features for Outlier Flags\n",
    "As with missing values, it can be valuable to flag outliers.\n",
    "<br><br>\n",
    "\n",
    "#### S14.4.1) Adjust your previous outlier threshold objects in the space below."
   ]
  },
  {
   "cell_type": "code",
   "execution_count": null,
   "metadata": {},
   "outputs": [],
   "source": [
    "## Session 14.4.1 ##\n",
    "\n",
    "# adjusting outlier thresholds\n",
    "____\n"
   ]
  },
  {
   "cell_type": "markdown",
   "metadata": {
    "deletable": false,
    "editable": false,
    "run_control": {
     "frozen": true
    }
   },
   "source": [
    " "
   ]
  },
  {
   "cell_type": "code",
   "execution_count": null,
   "metadata": {
    "deletable": false,
    "editable": false,
    "scrolled": true
   },
   "outputs": [],
   "source": [
    "## Session 14.4.1 ##\n",
    "\n",
    "diamonds = pd.read_excel(file)\n",
    "\n",
    "\n",
    "########################\n",
    "# price\n",
    "########################\n",
    "\n",
    "# writing an outlier flag\n",
    "diamonds['out_price'] = 0\n",
    "\n",
    "\n",
    "# filling in outlier flag\n",
    "diamonds['out_price'].replace(to_replace = diamonds.loc[:, 'out_price']\\\n",
    "                              [diamonds['price'] > price_limit_hi],\n",
    "                              value      = 1,\n",
    "                              inplace    = True)\n",
    "\n",
    "\n",
    "# checking results\n",
    "print(diamonds['price'][diamonds['price'] > price_limit_hi].count())\n",
    "print(diamonds['out_price'].abs().sum())\n"
   ]
  },
  {
   "cell_type": "markdown",
   "metadata": {
    "deletable": false,
    "editable": false,
    "run_control": {
     "frozen": true
    }
   },
   "source": [
    " "
   ]
  },
  {
   "cell_type": "code",
   "execution_count": null,
   "metadata": {
    "deletable": false,
    "editable": false
   },
   "outputs": [],
   "source": [
    "## Session 14.4.2 ##\n",
    "\n",
    "########################\n",
    "# carat\n",
    "########################\n",
    "\n",
    "# writing an outlier flag\n",
    "diamonds['out_carat'] = 0\n",
    "\n",
    "\n",
    "# filling in outlier flag\n",
    "diamonds['out_carat'].replace(to_replace = diamonds.loc[:, 'out_carat']\\\n",
    "                              [diamonds['carat'] > carat_limit_0]\\\n",
    "                              [diamonds['channel'] == 0],\n",
    "                              value      = 1,\n",
    "                              inplace    = True)\n",
    "\n",
    "\n",
    "diamonds['out_carat'].replace(to_replace = diamonds.loc[:, 'out_carat']\\\n",
    "                              [diamonds['carat'] > carat_limit_1]\\\n",
    "                              [diamonds['channel'] == 1],\n",
    "                              value      = 1,\n",
    "                              inplace    = True)\n",
    "\n",
    "\n",
    "diamonds['out_carat'].replace(to_replace = diamonds.loc[:, 'out_carat']\\\n",
    "                              [diamonds['carat'] > carat_limit_2]\\\n",
    "                              [diamonds['channel'] == 2],\n",
    "                              value      = 1,\n",
    "                              inplace    = True)   \n",
    "\n",
    "\n",
    "# See Footnote 5 for an explanation of the code above\n",
    "\n",
    "# checking results\n",
    "print(diamonds['carat'][diamonds['carat'] > carat_limit_0]\\\n",
    "                       [diamonds['channel'] == 0].count() +\n",
    "      diamonds['carat'][diamonds['carat'] > carat_limit_1]\\\n",
    "                       [diamonds['channel'] == 1].count() +\n",
    "      diamonds['carat'][diamonds['carat'] > carat_limit_2]\\\n",
    "                       [diamonds['channel'] == 2].count())\n",
    "\n",
    "print(diamonds['out_carat'].abs().sum())\n"
   ]
  },
  {
   "cell_type": "markdown",
   "metadata": {
    "deletable": false,
    "editable": false,
    "run_control": {
     "frozen": true
    }
   },
   "source": [
    " "
   ]
  },
  {
   "cell_type": "code",
   "execution_count": null,
   "metadata": {
    "deletable": false,
    "editable": false
   },
   "outputs": [],
   "source": [
    "## Session 14.4.3 ##\n",
    "\n",
    "########################\n",
    "# color\n",
    "########################\n",
    "\n",
    "# writing an outlier flag\n",
    "diamonds['out_color'] = 0\n",
    "\n",
    "\n",
    "# filling in outlier flag\n",
    "diamonds['out_color'].replace(to_replace = diamonds.loc[:, 'out_color']\\\n",
    "                     [diamonds['color'] > color_limit_hi],\n",
    "                     value      = 1,\n",
    "                     inplace    = True)\n",
    "\n",
    "\n",
    "\n",
    "# checking results\n",
    "print(diamonds['color'][diamonds['color'] > color_limit_hi].count())\n",
    "print(diamonds['out_color'].abs().sum())\n"
   ]
  },
  {
   "cell_type": "markdown",
   "metadata": {
    "deletable": false,
    "editable": false,
    "run_control": {
     "frozen": true
    }
   },
   "source": [
    " "
   ]
  },
  {
   "cell_type": "code",
   "execution_count": null,
   "metadata": {
    "deletable": false,
    "editable": false
   },
   "outputs": [],
   "source": [
    "## Session 14.4.4 ##\n",
    "\n",
    "########################\n",
    "# clarity\n",
    "########################\n",
    "\n",
    "# writing an outlier flag\n",
    "diamonds['out_clarity'] = 0\n",
    "\n",
    "\n",
    "# filling in outlier flag\n",
    "diamonds['out_clarity'].replace(to_replace = diamonds.loc[:, 'out_clarity']\\\n",
    "                     [diamonds['clarity'] < clarity_limit_lo],\n",
    "                     value      = -1,\n",
    "                     inplace    = True)\n",
    "\n",
    "\n",
    "diamonds['out_clarity'].replace(to_replace = diamonds.loc[:, 'out_clarity']\\\n",
    "                     [diamonds['clarity'] > clarity_limit_hi],\n",
    "                     value      = 1,\n",
    "                     inplace    = True)\n",
    "\n",
    "\n",
    "\n",
    "# checking results\n",
    "print(diamonds['clarity'][diamonds['clarity'] > clarity_limit_hi].count() +\n",
    "      diamonds['clarity'][diamonds['clarity'] < clarity_limit_lo].count())\n",
    "\n",
    "print(diamonds['out_clarity'].abs().sum())\n"
   ]
  },
  {
   "cell_type": "markdown",
   "metadata": {
    "deletable": false,
    "editable": false,
    "run_control": {
     "frozen": true
    }
   },
   "source": [
    " "
   ]
  },
  {
   "cell_type": "code",
   "execution_count": null,
   "metadata": {
    "deletable": false,
    "editable": false
   },
   "outputs": [],
   "source": [
    "## Session 14.4.5 ##\n",
    "\n",
    "########################\n",
    "# cut\n",
    "########################\n",
    "\n",
    "# writing an outlier flag\n",
    "diamonds['out_cut'] = 0\n",
    "\n",
    "\n",
    "# filling in outlier flag\n",
    "diamonds['out_cut'].replace(to_replace = diamonds.loc[:, 'out_cut']\\\n",
    "                     [diamonds['cut'] == 1],\n",
    "                     value      = 1,\n",
    "                     inplace    = True)\n",
    "\n",
    "\n",
    "# checking results\n",
    "print(diamonds['cut'][diamonds['cut'] == 1].sum())\n",
    "\n",
    "print(diamonds['out_cut'].abs().sum())\n"
   ]
  },
  {
   "cell_type": "markdown",
   "metadata": {
    "deletable": false,
    "editable": false,
    "run_control": {
     "frozen": true
    }
   },
   "source": [
    " "
   ]
  },
  {
   "cell_type": "code",
   "execution_count": null,
   "metadata": {
    "deletable": false,
    "editable": false,
    "scrolled": true
   },
   "outputs": [],
   "source": [
    "## Session 14.4.6 ##\n",
    "\n",
    "# creating an outlier sum column \n",
    "diamonds['out_sum'] = (abs(diamonds['out_price'])   +\n",
    "                       abs(diamonds['out_carat'])   +\n",
    "                       abs(diamonds['out_clarity']) +\n",
    "                       abs(diamonds['out_color'])   +\n",
    "                       abs(diamonds['out_cut']))\n",
    "\n",
    "# See Footnote 6 for an explanation of the code above\n",
    "\n",
    "\n",
    "\n",
    "check = (diamonds.loc[ : , ['out_sum',\n",
    "                            'out_price',\n",
    "                            'out_carat',\n",
    "                            'out_clarity',\n",
    "                            'out_color',\n",
    "                            'out_cut']].sort_values(['out_sum'],\n",
    "                                        ascending = False))\n",
    "\n",
    "\n",
    "# See Footnote 7 for an explanation of the code above\n",
    "\n",
    "# displaying the results\n",
    "pd.set_option('display.max_rows', 500)\n",
    "pd.set_option('display.max_columns', 500)\n",
    "display(check)\n"
   ]
  },
  {
   "cell_type": "markdown",
   "metadata": {
    "deletable": false,
    "editable": false,
    "run_control": {
     "frozen": true
    }
   },
   "source": [
    " "
   ]
  },
  {
   "cell_type": "code",
   "execution_count": null,
   "metadata": {
    "deletable": false,
    "editable": false
   },
   "outputs": [],
   "source": [
    "## Session 14.4.7 ##\n",
    "\n",
    "# saving check as an Excel file\n",
    "check.to_excel('Outlier Checks.xlsx')\n",
    "\n",
    "# saving diamonds as an Excel file\n",
    "diamonds.to_excel('diamonds_flagged.xlsx', index = False)\n"
   ]
  },
  {
   "cell_type": "markdown",
   "metadata": {
    "deletable": false,
    "editable": false,
    "run_control": {
     "frozen": true
    }
   },
   "source": [
    "***\n",
    "\n",
    "~~~\n",
    "\n",
    "   ___  _   _ _____                      \n",
    "  / _ \\| | | |_   _|                     \n",
    " | | | | | | | | |    _____              \n",
    " | |_| | |_| | | |   |_____|             \n",
    "  \\___/ \\___/  |_|                       \n",
    "      _                  _ _             \n",
    "  ___| |_ __ _ _ __   __| (_)_ __   __ _ \n",
    " / __| __/ _` | '_ \\ / _` | | '_ \\ / _` |\n",
    " \\__ \\ || (_| | | | | (_| | | | | | (_| |\n",
    " |___/\\__\\__,_|_| |_|\\__,_|_|_| |_|\\__, |\n",
    "                                   |___/ \n",
    "~~~\n",
    "\n",
    "\n",
    "***"
   ]
  },
  {
   "cell_type": "markdown",
   "metadata": {
    "deletable": false,
    "editable": false,
    "run_control": {
     "frozen": true
    }
   },
   "source": [
    "~~~\n",
    "###############################################################################\n",
    "# Footnotes\n",
    "###############################################################################\n",
    "\n",
    "\n",
    "Footnote 0: the purpose of footnotes\n",
    "\n",
    "to give a line-by-line explanation of a code snippet\n",
    "\n",
    "\n",
    "*******************************************************************************\n",
    "\n",
    "\n",
    "Footnote 1: calling quantiles\n",
    "\n",
    "diamonds[                                      # calling the diamond dataset\n",
    "['carat', 'color', 'clarity', 'cut', 'price']  # with columns in a list\n",
    "].quantile(                                    # calling the quantile function\n",
    "[0.20, 0.40, 0.60, 0.80, 1.00])                # with specific quantiles in a list\n",
    "\n",
    "\n",
    "*******************************************************************************\n",
    "\n",
    "\n",
    "Footnote 2: calling quantiles\n",
    "\n",
    "diamonds.boxplot(                    # calling boxplot on the diamonds dataset\n",
    "column = ['carat'],                  # specifying the carat column\n",
    "by = 'channel',                      # separating the data by the channel column\n",
    "vert = False,                        # setting vert = False to make horizontal boxplots\n",
    "manage_xticks = True,                # setting manage_xticks = True to help format the plot\n",
    "patch_artist = False,                # setting patch_artist = False to get transparent boxes\n",
    "meanline = True,                     # setting meanline = True to get a line representing the mean\n",
    "showmeans = True)                    # setting showmeans = True to show the mean and median lines\n",
    "\n",
    "\n",
    "plt.title(\"Carat by Channel\")        # creating a custom title\n",
    "plt.suptitle(\"\")                     # supressing the default title\n",
    "\n",
    "plt.show()                           # displaying the plot\n",
    "\n",
    "\n",
    "*******************************************************************************\n",
    "\n",
    "\n",
    "Footnote 3: calling quantiles\n",
    "\n",
    "plt.hist(                            # calling the histogram function from plt\n",
    "x = 'price',                         # on the variable price\n",
    "data = diamonds,                     # from the diamond dataset\n",
    "bins = 'fd',                         # with the number of bins equal to the Freedman-Diaconis rule\n",
    "cumulative = True,                   # setting cumulative = True to generate a cumulative distribution\n",
    "histtype = 'step'                    # setting histtype = 'step' to get steps and a hallow histogram\n",
    ")                                    # closing the histogram function\n",
    "\n",
    "\n",
    "plt.xlabel(\"Price\")                  # setting the x-axis label to \"Price\"\n",
    "plt.show()                           # displaying the plot\n",
    "\n",
    "\n",
    "\n",
    "*******************************************************************************\n",
    "\n",
    "\n",
    "Footnote 4: working with distplot and custom lines\n",
    "\n",
    "plt.subplot(2, 2,                    # setting a 2 x 2 plot window\n",
    "1)                                   # and preparing to plot in window 1\n",
    "\n",
    "sns.distplot(                        # calling distplot from sns\n",
    "diamonds['price'],                   # on the variable price from the diamonds dataset\n",
    "bins = 35,                           # specifiying 35 bins\n",
    "color = 'g')                         # changing the color to green\n",
    "\n",
    "plt.xlabel('Price')                  # setting the x-axis label to \"Price\"\n",
    "\n",
    "\n",
    "plt.axvline(                         # calling a function to create a custom vertical line\n",
    "x = price_limit_hi,                  # which is drawn at price_limit_hi\n",
    "label = 'Outlier Thresholds',        # and labeled as 'Outlier Thresholds'\n",
    "linestyle = '--')                    # and with a '--' line style\n",
    "\n",
    "\n",
    "*******************************************************************************\n",
    "\n",
    "\n",
    "Footnote 5: working with distplot and custom lines\n",
    "\n",
    "\n",
    "diamonds['out_carat'] = 0                    # creating a new variable called out_carat\n",
    "\n",
    "\n",
    "for val in enumerate(                        # starting a for loop where indexes are also called\n",
    "diamonds.loc[ : , 'carat']):                 # on all rows of the column price in the diamonds dataset\n",
    "\n",
    "\n",
    "if diamonds.loc[val[0], 'channel'] == 0      # specifying a condition that subsets observations where channel is equal to zero\n",
    "and                                          # and also\n",
    "val[1] > carat_limit_0:                      # that carat is greater than carat_limit_0\n",
    "        \n",
    "diamonds.loc[val[0], 'out_carat'] = 1        # and if BOTH of these conditions are true, set out_carat to 1\n",
    "\n",
    "\n",
    "*******************************************************************************\n",
    "\n",
    "\n",
    "Footnote 6: creating a new variable: out_sum \n",
    "\n",
    "\n",
    "diamonds['out_sum'] =                         # creating a new object called out_sum\n",
    "(abs(diamonds['out_price'])  +                # by adding together the absolute value\n",
    "abs(diamonds['out_carat'])   +                # of all 'out_' columns\n",
    "abs(diamonds['out_clarity']) +\n",
    "abs(diamonds['out_color'])   +\n",
    "abs(diamonds['out_cut']))\n",
    "\n",
    "\n",
    "*******************************************************************************\n",
    "\n",
    "\n",
    "Footnote 7: checking the content of the outlier flags\n",
    "\n",
    "\n",
    "check =                                       # creating a variable called check\n",
    "(diamonds.loc[ : ,                            # from the diamond dataset\n",
    "['out_sum',                                   # taking all outlier flags including out_sum\n",
    "'out_price',\n",
    "'out_carat',\n",
    "'out_clarity',\n",
    "'out_color',\n",
    "'out_cut']\n",
    "].sort_values(['out_sum'],                    # that is sorted based on out_sum\n",
    "ascending = False))                           # where the highest value of out_sum is on top\n",
    "\n",
    "    \n",
    "*******************************************************************************\n",
    "~~~"
   ]
  },
  {
   "cell_type": "markdown",
   "metadata": {
    "deletable": false,
    "editable": false,
    "run_control": {
     "frozen": true
    }
   },
   "source": [
    " "
   ]
  }
 ],
 "metadata": {
  "kernelspec": {
   "display_name": "Python 3",
   "language": "python",
   "name": "python3"
  },
  "language_info": {
   "codemirror_mode": {
    "name": "ipython",
    "version": 3
   },
   "file_extension": ".py",
   "mimetype": "text/x-python",
   "name": "python",
   "nbconvert_exporter": "python",
   "pygments_lexer": "ipython3",
   "version": "3.7.3"
  },
  "toc": {
   "base_numbering": 1,
   "nav_menu": {},
   "number_sections": false,
   "sideBar": true,
   "skip_h1_title": false,
   "title_cell": "Table of Contents",
   "title_sidebar": "Contents",
   "toc_cell": false,
   "toc_position": {},
   "toc_section_display": true,
   "toc_window_display": false
  },
  "varInspector": {
   "cols": {
    "lenName": 16,
    "lenType": 16,
    "lenVar": 40
   },
   "kernels_config": {
    "python": {
     "delete_cmd_postfix": "",
     "delete_cmd_prefix": "del ",
     "library": "var_list.py",
     "varRefreshCmd": "print(var_dic_list())"
    },
    "r": {
     "delete_cmd_postfix": ") ",
     "delete_cmd_prefix": "rm(",
     "library": "var_list.r",
     "varRefreshCmd": "cat(var_dic_list()) "
    }
   },
   "types_to_exclude": [
    "module",
    "function",
    "builtin_function_or_method",
    "instance",
    "_Feature"
   ],
   "window_display": false
  }
 },
 "nbformat": 4,
 "nbformat_minor": 2
}
